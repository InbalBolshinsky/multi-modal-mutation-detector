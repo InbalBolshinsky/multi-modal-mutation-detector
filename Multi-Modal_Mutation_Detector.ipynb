{
  "cells": [
    {
      "cell_type": "markdown",
      "source": [
        "Downloading the VCF file from ClinVar and extracting it."
      ],
      "metadata": {
        "id": "znShaFRDYSEW"
      }
    },
    {
      "cell_type": "code",
      "source": [
        "!wget ftp://ftp.ncbi.nlm.nih.gov/pub/clinvar/vcf_GRCh38/clinvar.vcf.gz"
      ],
      "metadata": {
        "colab": {
          "base_uri": "https://localhost:8080/"
        },
        "id": "J99zZKY9MCVP",
        "outputId": "408513eb-132d-4438-8aa5-b5a593af880b"
      },
      "execution_count": 32,
      "outputs": [
        {
          "output_type": "stream",
          "name": "stdout",
          "text": [
            "--2024-12-11 10:46:41--  ftp://ftp.ncbi.nlm.nih.gov/pub/clinvar/vcf_GRCh38/clinvar.vcf.gz\n",
            "           => ‘clinvar.vcf.gz’\n",
            "Resolving ftp.ncbi.nlm.nih.gov (ftp.ncbi.nlm.nih.gov)... 130.14.250.13, 130.14.250.10, 130.14.250.11, ...\n",
            "Connecting to ftp.ncbi.nlm.nih.gov (ftp.ncbi.nlm.nih.gov)|130.14.250.13|:21... connected.\n",
            "Logging in as anonymous ... Logged in!\n",
            "==> SYST ... done.    ==> PWD ... done.\n",
            "==> TYPE I ... done.  ==> CWD (1) /pub/clinvar/vcf_GRCh38 ... done.\n",
            "==> SIZE clinvar.vcf.gz ... 104979789\n",
            "==> PASV ... done.    ==> RETR clinvar.vcf.gz ... done.\n",
            "Length: 104979789 (100M) (unauthoritative)\n",
            "\n",
            "clinvar.vcf.gz      100%[===================>] 100.12M  45.6MB/s    in 2.2s    \n",
            "\n",
            "2024-12-11 10:46:44 (45.6 MB/s) - ‘clinvar.vcf.gz’ saved [104979789]\n",
            "\n"
          ]
        }
      ]
    },
    {
      "cell_type": "code",
      "source": [
        "!gunzip clinvar.vcf.gz"
      ],
      "metadata": {
        "colab": {
          "base_uri": "https://localhost:8080/"
        },
        "id": "hIigrsbBMCpu",
        "outputId": "4da4da7c-26db-4102-9d60-23afe4d0a7c5"
      },
      "execution_count": 33,
      "outputs": [
        {
          "output_type": "stream",
          "name": "stdout",
          "text": [
            "gzip: clinvar.vcf already exists; do you wish to overwrite (y or n)? y\n"
          ]
        }
      ]
    },
    {
      "cell_type": "markdown",
      "source": [
        "Viewing clinvar.vcf head:"
      ],
      "metadata": {
        "id": "cdxMCKDJYa9d"
      }
    },
    {
      "cell_type": "code",
      "source": [
        "!grep \"CLNDN=\" clinvar.vcf | head"
      ],
      "metadata": {
        "colab": {
          "base_uri": "https://localhost:8080/"
        },
        "id": "jgANpsiLMCyG",
        "outputId": "c15e7c32-a881-42f2-fea3-dde4bdd8cb10"
      },
      "execution_count": 34,
      "outputs": [
        {
          "output_type": "stream",
          "name": "stdout",
          "text": [
            "1\t69134\t2205837\tA\tG\t.\t.\tALLELEID=2193183;CLNDISDB=MedGen:CN169374;CLNDN=not_specified;CLNHGVS=NC_000001.11:g.69134A>G;CLNREVSTAT=criteria_provided,_single_submitter;CLNSIG=Likely_benign;CLNVC=single_nucleotide_variant;CLNVCSO=SO:0001483;GENEINFO=OR4F5:79501;MC=SO:0001583|missense_variant;ORIGIN=1\n",
            "1\t69314\t3205580\tT\tG\t.\t.\tALLELEID=3374047;CLNDISDB=MedGen:CN169374;CLNDN=not_specified;CLNHGVS=NC_000001.11:g.69314T>G;CLNREVSTAT=criteria_provided,_single_submitter;CLNSIG=Uncertain_significance;CLNVC=single_nucleotide_variant;CLNVCSO=SO:0001483;GENEINFO=OR4F5:79501;MC=SO:0001583|missense_variant;ORIGIN=1\n",
            "1\t69423\t3205581\tG\tA\t.\t.\tALLELEID=3374048;CLNDISDB=MedGen:CN169374;CLNDN=not_specified;CLNHGVS=NC_000001.11:g.69423G>A;CLNREVSTAT=criteria_provided,_single_submitter;CLNSIG=Uncertain_significance;CLNVC=single_nucleotide_variant;CLNVCSO=SO:0001483;GENEINFO=OR4F5:79501;MC=SO:0001583|missense_variant;ORIGIN=1\n",
            "1\t69581\t2252161\tC\tG\t.\t.\tALLELEID=2238986;CLNDISDB=MedGen:CN169374;CLNDN=not_specified;CLNHGVS=NC_000001.11:g.69581C>G;CLNREVSTAT=criteria_provided,_single_submitter;CLNSIG=Uncertain_significance;CLNVC=single_nucleotide_variant;CLNVCSO=SO:0001483;GENEINFO=OR4F5:79501;MC=SO:0001583|missense_variant;ORIGIN=1\n",
            "1\t69682\t2396347\tG\tA\t.\t.\tALLELEID=2386655;CLNDISDB=MedGen:CN169374;CLNDN=not_specified;CLNHGVS=NC_000001.11:g.69682G>A;CLNREVSTAT=criteria_provided,_single_submitter;CLNSIG=Uncertain_significance;CLNVC=single_nucleotide_variant;CLNVCSO=SO:0001483;GENEINFO=OR4F5:79501;MC=SO:0001583|missense_variant;ORIGIN=1\n",
            "1\t69731\t3205582\tT\tC\t.\t.\tALLELEID=3374049;CLNDISDB=MedGen:CN169374;CLNDN=not_specified;CLNHGVS=NC_000001.11:g.69731T>C;CLNREVSTAT=criteria_provided,_single_submitter;CLNSIG=Uncertain_significance;CLNVC=single_nucleotide_variant;CLNVCSO=SO:0001483;GENEINFO=OR4F5:79501;MC=SO:0001583|missense_variant;ORIGIN=1\n",
            "1\t69769\t2288999\tT\tC\t.\t.\tALLELEID=2278803;CLNDISDB=MedGen:CN169374;CLNDN=not_specified;CLNHGVS=NC_000001.11:g.69769T>C;CLNREVSTAT=criteria_provided,_single_submitter;CLNSIG=Uncertain_significance;CLNVC=single_nucleotide_variant;CLNVCSO=SO:0001483;GENEINFO=OR4F5:79501;MC=SO:0001583|missense_variant;ORIGIN=1\n",
            "1\t69995\t2351346\tG\tC\t.\t.\tALLELEID=2333177;CLNDISDB=MedGen:CN169374;CLNDN=not_specified;CLNHGVS=NC_000001.11:g.69995G>C;CLNREVSTAT=criteria_provided,_single_submitter;CLNSIG=Uncertain_significance;CLNVC=single_nucleotide_variant;CLNVCSO=SO:0001483;GENEINFO=OR4F5:79501;MC=SO:0001583|missense_variant;ORIGIN=1\n",
            "1\t925946\t1924157\tC\tG\t.\t.\tALLELEID=1983057;CLNDISDB=MedGen:C3661900;CLNDN=not_provided;CLNHGVS=NC_000001.11:g.925946C>G;CLNREVSTAT=criteria_provided,_single_submitter;CLNSIG=Uncertain_significance;CLNVC=single_nucleotide_variant;CLNVCSO=SO:0001483;GENEINFO=SAMD11:148398;MC=SO:0001583|missense_variant;ORIGIN=1\n",
            "1\t925952\t1019397\tG\tA\t.\t.\tALLELEID=1003021;CLNDISDB=MedGen:C3661900;CLNDN=not_provided;CLNHGVS=NC_000001.11:g.925952G>A;CLNREVSTAT=criteria_provided,_single_submitter;CLNSIG=Uncertain_significance;CLNVC=single_nucleotide_variant;CLNVCSO=SO:0001483;GENEINFO=SAMD11:148398;MC=SO:0001583|missense_variant;ORIGIN=1;RS=1640863258\n"
          ]
        }
      ]
    },
    {
      "cell_type": "markdown",
      "source": [
        "Automate Complex Filtering:"
      ],
      "metadata": {
        "id": "XcrHQ9zAYh7Z"
      }
    },
    {
      "cell_type": "code",
      "source": [
        "# Parse VCF file and filter for specific conditions\n",
        "!pip install pysam\n",
        "import pysam\n",
        "# Save each DataFrame to a CSV file (optional) and print the counts\n",
        "import os\n",
        "\n",
        "# Open the VCF file\n",
        "vcf_file = pysam.VariantFile(\"clinvar.vcf\")\n",
        "filtered_variants = []\n",
        "import pandas as pd\n",
        "\n",
        "# Load the VCF data into a DataFrame (update the path to your filtered VCF file)\n",
        "vcf_file = \"clinvar.vcf\"  # Replace with the actual file path\n",
        "columns = [\"CHROM\", \"POS\", \"ID\", \"REF\", \"ALT\", \"QUAL\", \"FILTER\", \"INFO\"]\n",
        "df = pd.read_csv(vcf_file, sep=\"\\t\", comment='#', names=columns)\n",
        "\n",
        "# Function to parse INFO field into a dictionary\n",
        "def parse_info(info):\n",
        "    parsed = {}\n",
        "    for entry in info.split(\";\"):\n",
        "        if \"=\" in entry:\n",
        "            key, value = entry.split(\"=\", 1)\n",
        "            parsed[key] = value\n",
        "    return parsed\n",
        "\n",
        "# Parse the INFO column into separate fields\n",
        "info_parsed = df[\"INFO\"].apply(parse_info)\n",
        "info_df = pd.DataFrame(info_parsed.tolist())\n",
        "df = pd.concat([df, info_df], axis=1)\n",
        "\n",
        "# Filter for relevant genes and classifications\n",
        "genes_of_interest = [\"EGFR\", \"KRAS\", \"ALK\"]\n",
        "classifications = {\n",
        "    \"Pathogenic/Likely Pathogenic\": [\"Pathogenic\", \"Likely_pathogenic\"],\n",
        "    \"Benign/Likely Benign\": [\"Benign\", \"Likely_benign\"],\n",
        "    \"VUS\": [\"Uncertain_significance\"]\n",
        "}\n",
        "\n",
        "# Create DataFrames for each gene and classification combination\n",
        "result_dfs = {}\n",
        "for gene in genes_of_interest:\n",
        "    for classification_name, classification_values in classifications.items():\n",
        "        # Filter for the specific gene and classification\n",
        "        filtered_df = df[\n",
        "            (df[\"GENEINFO\"].str.contains(gene, na=False)) &\n",
        "            (df[\"CLNSIG\"].isin(classification_values))\n",
        "        ]\n",
        "        # Store the filtered DataFrame in a dictionary\n",
        "        key = f\"{gene}_{classification_name.replace(' ', '_')}\"\n",
        "        result_dfs[key] = filtered_df\n",
        "\n",
        "# Save each DataFrame to a CSV file\n",
        "for key, filtered_df in result_dfs.items():\n",
        "    # Create the directory if it doesn't exist\n",
        "    os.makedirs(os.path.dirname(f\"{key}.csv\"), exist_ok=True)\n",
        "    filtered_df.to_csv(f\"{key}.csv\", index=False)\n"
      ],
      "metadata": {
        "colab": {
          "base_uri": "https://localhost:8080/"
        },
        "id": "xiVIU9w-YmF5",
        "outputId": "20c68bc1-0591-4017-d505-ba7e0849f764"
      },
      "execution_count": 1,
      "outputs": [
        {
          "output_type": "stream",
          "name": "stdout",
          "text": [
            "Requirement already satisfied: pysam in /usr/local/lib/python3.10/dist-packages (0.22.1)\n"
          ]
        },
        {
          "output_type": "stream",
          "name": "stderr",
          "text": [
            "<ipython-input-1-10350e4d5771>:15: DtypeWarning: Columns (0) have mixed types. Specify dtype option on import or set low_memory=False.\n",
            "  df = pd.read_csv(vcf_file, sep=\"\\t\", comment='#', names=columns)\n"
          ]
        }
      ]
    },
    {
      "cell_type": "code",
      "source": [
        "for key, filtered_df in result_dfs.items():\n",
        "    print(f\"{key}: {len(filtered_df)} variants\")"
      ],
      "metadata": {
        "colab": {
          "base_uri": "https://localhost:8080/"
        },
        "id": "j1QkKwlBj_OE",
        "outputId": "c209b135-4242-4923-f6db-a3329857fb38"
      },
      "execution_count": 2,
      "outputs": [
        {
          "output_type": "stream",
          "name": "stdout",
          "text": [
            "EGFR_Pathogenic/Likely_Pathogenic: 119 variants\n",
            "EGFR_Benign/Likely_Benign: 1292 variants\n",
            "EGFR_VUS: 1409 variants\n",
            "KRAS_Pathogenic/Likely_Pathogenic: 62 variants\n",
            "KRAS_Benign/Likely_Benign: 146 variants\n",
            "KRAS_VUS: 198 variants\n",
            "ALK_Pathogenic/Likely_Pathogenic: 131 variants\n",
            "ALK_Benign/Likely_Benign: 2458 variants\n",
            "ALK_VUS: 3432 variants\n"
          ]
        }
      ]
    },
    {
      "cell_type": "code",
      "source": [
        "df.head()"
      ],
      "metadata": {
        "colab": {
          "base_uri": "https://localhost:8080/",
          "height": 243
        },
        "id": "4FnWNgN4YoCK",
        "outputId": "fa067f18-bfa9-40c9-8f0f-dfcf9cbc2cc3"
      },
      "execution_count": 70,
      "outputs": [
        {
          "output_type": "execute_result",
          "data": {
            "text/plain": [
              "  Chromosome  Position      ID Clinical Significance  \\\n",
              "0          1  11114363  156709         (Pathogenic,)   \n",
              "1          1  11124516  156703         (Pathogenic,)   \n",
              "2          1  11124516  376129         (Pathogenic,)   \n",
              "3          1  11157173  190121         (Pathogenic,)   \n",
              "4          1  11157173  376453         (Pathogenic,)   \n",
              "\n",
              "                                        Disease Name  \n",
              "0  (CEBALID_syndrome|Macrocephaly-intellectual_di...  \n",
              "1  (not_provided|Isolated_focal_cortical_dysplasi...  \n",
              "2  (Papillary_renal_cell_carcinoma_type_1|Renal_c...  \n",
              "3  (Glioblastoma|Breast_neoplasm|Macrocephaly-int...  \n",
              "4  (Overgrowth_syndrome_and/or_cerebral_malformat...  "
            ],
            "text/html": [
              "\n",
              "  <div id=\"df-5fc83a43-ebeb-40f3-b462-a6d8763ada4e\" class=\"colab-df-container\">\n",
              "    <div>\n",
              "<style scoped>\n",
              "    .dataframe tbody tr th:only-of-type {\n",
              "        vertical-align: middle;\n",
              "    }\n",
              "\n",
              "    .dataframe tbody tr th {\n",
              "        vertical-align: top;\n",
              "    }\n",
              "\n",
              "    .dataframe thead th {\n",
              "        text-align: right;\n",
              "    }\n",
              "</style>\n",
              "<table border=\"1\" class=\"dataframe\">\n",
              "  <thead>\n",
              "    <tr style=\"text-align: right;\">\n",
              "      <th></th>\n",
              "      <th>Chromosome</th>\n",
              "      <th>Position</th>\n",
              "      <th>ID</th>\n",
              "      <th>Clinical Significance</th>\n",
              "      <th>Disease Name</th>\n",
              "    </tr>\n",
              "  </thead>\n",
              "  <tbody>\n",
              "    <tr>\n",
              "      <th>0</th>\n",
              "      <td>1</td>\n",
              "      <td>11114363</td>\n",
              "      <td>156709</td>\n",
              "      <td>(Pathogenic,)</td>\n",
              "      <td>(CEBALID_syndrome|Macrocephaly-intellectual_di...</td>\n",
              "    </tr>\n",
              "    <tr>\n",
              "      <th>1</th>\n",
              "      <td>1</td>\n",
              "      <td>11124516</td>\n",
              "      <td>156703</td>\n",
              "      <td>(Pathogenic,)</td>\n",
              "      <td>(not_provided|Isolated_focal_cortical_dysplasi...</td>\n",
              "    </tr>\n",
              "    <tr>\n",
              "      <th>2</th>\n",
              "      <td>1</td>\n",
              "      <td>11124516</td>\n",
              "      <td>376129</td>\n",
              "      <td>(Pathogenic,)</td>\n",
              "      <td>(Papillary_renal_cell_carcinoma_type_1|Renal_c...</td>\n",
              "    </tr>\n",
              "    <tr>\n",
              "      <th>3</th>\n",
              "      <td>1</td>\n",
              "      <td>11157173</td>\n",
              "      <td>190121</td>\n",
              "      <td>(Pathogenic,)</td>\n",
              "      <td>(Glioblastoma|Breast_neoplasm|Macrocephaly-int...</td>\n",
              "    </tr>\n",
              "    <tr>\n",
              "      <th>4</th>\n",
              "      <td>1</td>\n",
              "      <td>11157173</td>\n",
              "      <td>376453</td>\n",
              "      <td>(Pathogenic,)</td>\n",
              "      <td>(Overgrowth_syndrome_and/or_cerebral_malformat...</td>\n",
              "    </tr>\n",
              "  </tbody>\n",
              "</table>\n",
              "</div>\n",
              "    <div class=\"colab-df-buttons\">\n",
              "\n",
              "  <div class=\"colab-df-container\">\n",
              "    <button class=\"colab-df-convert\" onclick=\"convertToInteractive('df-5fc83a43-ebeb-40f3-b462-a6d8763ada4e')\"\n",
              "            title=\"Convert this dataframe to an interactive table.\"\n",
              "            style=\"display:none;\">\n",
              "\n",
              "  <svg xmlns=\"http://www.w3.org/2000/svg\" height=\"24px\" viewBox=\"0 -960 960 960\">\n",
              "    <path d=\"M120-120v-720h720v720H120Zm60-500h600v-160H180v160Zm220 220h160v-160H400v160Zm0 220h160v-160H400v160ZM180-400h160v-160H180v160Zm440 0h160v-160H620v160ZM180-180h160v-160H180v160Zm440 0h160v-160H620v160Z\"/>\n",
              "  </svg>\n",
              "    </button>\n",
              "\n",
              "  <style>\n",
              "    .colab-df-container {\n",
              "      display:flex;\n",
              "      gap: 12px;\n",
              "    }\n",
              "\n",
              "    .colab-df-convert {\n",
              "      background-color: #E8F0FE;\n",
              "      border: none;\n",
              "      border-radius: 50%;\n",
              "      cursor: pointer;\n",
              "      display: none;\n",
              "      fill: #1967D2;\n",
              "      height: 32px;\n",
              "      padding: 0 0 0 0;\n",
              "      width: 32px;\n",
              "    }\n",
              "\n",
              "    .colab-df-convert:hover {\n",
              "      background-color: #E2EBFA;\n",
              "      box-shadow: 0px 1px 2px rgba(60, 64, 67, 0.3), 0px 1px 3px 1px rgba(60, 64, 67, 0.15);\n",
              "      fill: #174EA6;\n",
              "    }\n",
              "\n",
              "    .colab-df-buttons div {\n",
              "      margin-bottom: 4px;\n",
              "    }\n",
              "\n",
              "    [theme=dark] .colab-df-convert {\n",
              "      background-color: #3B4455;\n",
              "      fill: #D2E3FC;\n",
              "    }\n",
              "\n",
              "    [theme=dark] .colab-df-convert:hover {\n",
              "      background-color: #434B5C;\n",
              "      box-shadow: 0px 1px 3px 1px rgba(0, 0, 0, 0.15);\n",
              "      filter: drop-shadow(0px 1px 2px rgba(0, 0, 0, 0.3));\n",
              "      fill: #FFFFFF;\n",
              "    }\n",
              "  </style>\n",
              "\n",
              "    <script>\n",
              "      const buttonEl =\n",
              "        document.querySelector('#df-5fc83a43-ebeb-40f3-b462-a6d8763ada4e button.colab-df-convert');\n",
              "      buttonEl.style.display =\n",
              "        google.colab.kernel.accessAllowed ? 'block' : 'none';\n",
              "\n",
              "      async function convertToInteractive(key) {\n",
              "        const element = document.querySelector('#df-5fc83a43-ebeb-40f3-b462-a6d8763ada4e');\n",
              "        const dataTable =\n",
              "          await google.colab.kernel.invokeFunction('convertToInteractive',\n",
              "                                                    [key], {});\n",
              "        if (!dataTable) return;\n",
              "\n",
              "        const docLinkHtml = 'Like what you see? Visit the ' +\n",
              "          '<a target=\"_blank\" href=https://colab.research.google.com/notebooks/data_table.ipynb>data table notebook</a>'\n",
              "          + ' to learn more about interactive tables.';\n",
              "        element.innerHTML = '';\n",
              "        dataTable['output_type'] = 'display_data';\n",
              "        await google.colab.output.renderOutput(dataTable, element);\n",
              "        const docLink = document.createElement('div');\n",
              "        docLink.innerHTML = docLinkHtml;\n",
              "        element.appendChild(docLink);\n",
              "      }\n",
              "    </script>\n",
              "  </div>\n",
              "\n",
              "\n",
              "<div id=\"df-b4a0e2c6-a02b-4d24-bad6-437fea99c562\">\n",
              "  <button class=\"colab-df-quickchart\" onclick=\"quickchart('df-b4a0e2c6-a02b-4d24-bad6-437fea99c562')\"\n",
              "            title=\"Suggest charts\"\n",
              "            style=\"display:none;\">\n",
              "\n",
              "<svg xmlns=\"http://www.w3.org/2000/svg\" height=\"24px\"viewBox=\"0 0 24 24\"\n",
              "     width=\"24px\">\n",
              "    <g>\n",
              "        <path d=\"M19 3H5c-1.1 0-2 .9-2 2v14c0 1.1.9 2 2 2h14c1.1 0 2-.9 2-2V5c0-1.1-.9-2-2-2zM9 17H7v-7h2v7zm4 0h-2V7h2v10zm4 0h-2v-4h2v4z\"/>\n",
              "    </g>\n",
              "</svg>\n",
              "  </button>\n",
              "\n",
              "<style>\n",
              "  .colab-df-quickchart {\n",
              "      --bg-color: #E8F0FE;\n",
              "      --fill-color: #1967D2;\n",
              "      --hover-bg-color: #E2EBFA;\n",
              "      --hover-fill-color: #174EA6;\n",
              "      --disabled-fill-color: #AAA;\n",
              "      --disabled-bg-color: #DDD;\n",
              "  }\n",
              "\n",
              "  [theme=dark] .colab-df-quickchart {\n",
              "      --bg-color: #3B4455;\n",
              "      --fill-color: #D2E3FC;\n",
              "      --hover-bg-color: #434B5C;\n",
              "      --hover-fill-color: #FFFFFF;\n",
              "      --disabled-bg-color: #3B4455;\n",
              "      --disabled-fill-color: #666;\n",
              "  }\n",
              "\n",
              "  .colab-df-quickchart {\n",
              "    background-color: var(--bg-color);\n",
              "    border: none;\n",
              "    border-radius: 50%;\n",
              "    cursor: pointer;\n",
              "    display: none;\n",
              "    fill: var(--fill-color);\n",
              "    height: 32px;\n",
              "    padding: 0;\n",
              "    width: 32px;\n",
              "  }\n",
              "\n",
              "  .colab-df-quickchart:hover {\n",
              "    background-color: var(--hover-bg-color);\n",
              "    box-shadow: 0 1px 2px rgba(60, 64, 67, 0.3), 0 1px 3px 1px rgba(60, 64, 67, 0.15);\n",
              "    fill: var(--button-hover-fill-color);\n",
              "  }\n",
              "\n",
              "  .colab-df-quickchart-complete:disabled,\n",
              "  .colab-df-quickchart-complete:disabled:hover {\n",
              "    background-color: var(--disabled-bg-color);\n",
              "    fill: var(--disabled-fill-color);\n",
              "    box-shadow: none;\n",
              "  }\n",
              "\n",
              "  .colab-df-spinner {\n",
              "    border: 2px solid var(--fill-color);\n",
              "    border-color: transparent;\n",
              "    border-bottom-color: var(--fill-color);\n",
              "    animation:\n",
              "      spin 1s steps(1) infinite;\n",
              "  }\n",
              "\n",
              "  @keyframes spin {\n",
              "    0% {\n",
              "      border-color: transparent;\n",
              "      border-bottom-color: var(--fill-color);\n",
              "      border-left-color: var(--fill-color);\n",
              "    }\n",
              "    20% {\n",
              "      border-color: transparent;\n",
              "      border-left-color: var(--fill-color);\n",
              "      border-top-color: var(--fill-color);\n",
              "    }\n",
              "    30% {\n",
              "      border-color: transparent;\n",
              "      border-left-color: var(--fill-color);\n",
              "      border-top-color: var(--fill-color);\n",
              "      border-right-color: var(--fill-color);\n",
              "    }\n",
              "    40% {\n",
              "      border-color: transparent;\n",
              "      border-right-color: var(--fill-color);\n",
              "      border-top-color: var(--fill-color);\n",
              "    }\n",
              "    60% {\n",
              "      border-color: transparent;\n",
              "      border-right-color: var(--fill-color);\n",
              "    }\n",
              "    80% {\n",
              "      border-color: transparent;\n",
              "      border-right-color: var(--fill-color);\n",
              "      border-bottom-color: var(--fill-color);\n",
              "    }\n",
              "    90% {\n",
              "      border-color: transparent;\n",
              "      border-bottom-color: var(--fill-color);\n",
              "    }\n",
              "  }\n",
              "</style>\n",
              "\n",
              "  <script>\n",
              "    async function quickchart(key) {\n",
              "      const quickchartButtonEl =\n",
              "        document.querySelector('#' + key + ' button');\n",
              "      quickchartButtonEl.disabled = true;  // To prevent multiple clicks.\n",
              "      quickchartButtonEl.classList.add('colab-df-spinner');\n",
              "      try {\n",
              "        const charts = await google.colab.kernel.invokeFunction(\n",
              "            'suggestCharts', [key], {});\n",
              "      } catch (error) {\n",
              "        console.error('Error during call to suggestCharts:', error);\n",
              "      }\n",
              "      quickchartButtonEl.classList.remove('colab-df-spinner');\n",
              "      quickchartButtonEl.classList.add('colab-df-quickchart-complete');\n",
              "    }\n",
              "    (() => {\n",
              "      let quickchartButtonEl =\n",
              "        document.querySelector('#df-b4a0e2c6-a02b-4d24-bad6-437fea99c562 button');\n",
              "      quickchartButtonEl.style.display =\n",
              "        google.colab.kernel.accessAllowed ? 'block' : 'none';\n",
              "    })();\n",
              "  </script>\n",
              "</div>\n",
              "\n",
              "    </div>\n",
              "  </div>\n"
            ],
            "application/vnd.google.colaboratory.intrinsic+json": {
              "type": "dataframe",
              "variable_name": "df",
              "summary": "{\n  \"name\": \"df\",\n  \"rows\": 1281,\n  \"fields\": [\n    {\n      \"column\": \"Chromosome\",\n      \"properties\": {\n        \"dtype\": \"category\",\n        \"num_unique_values\": 22,\n        \"samples\": [\n          \"1\",\n          \"14\",\n          \"9\"\n        ],\n        \"semantic_type\": \"\",\n        \"description\": \"\"\n      }\n    },\n    {\n      \"column\": \"Position\",\n      \"properties\": {\n        \"dtype\": \"number\",\n        \"std\": 47766857,\n        \"min\": 309972,\n        \"max\": 231352611,\n        \"num_unique_values\": 1196,\n        \"samples\": [\n          25245348,\n          47805628,\n          68823566\n        ],\n        \"semantic_type\": \"\",\n        \"description\": \"\"\n      }\n    },\n    {\n      \"column\": \"ID\",\n      \"properties\": {\n        \"dtype\": \"string\",\n        \"num_unique_values\": 1281,\n        \"samples\": [\n          \"37428\",\n          \"460908\",\n          \"495093\"\n        ],\n        \"semantic_type\": \"\",\n        \"description\": \"\"\n      }\n    },\n    {\n      \"column\": \"Clinical Significance\",\n      \"properties\": {\n        \"dtype\": \"category\",\n        \"num_unique_values\": 1,\n        \"samples\": [\n          [\n            \"Pathogenic\"\n          ]\n        ],\n        \"semantic_type\": \"\",\n        \"description\": \"\"\n      }\n    },\n    {\n      \"column\": \"Disease Name\",\n      \"properties\": {\n        \"dtype\": \"string\",\n        \"num_unique_values\": 731,\n        \"samples\": [\n          [\n            \"Ovarian_carcinoma|not_provided|Breast-ovarian_cancer\",\n            \"_familial\",\n            \"_susceptibility_to\",\n            \"_1|Hereditary_breast_ovarian_cancer_syndrome\"\n          ]\n        ],\n        \"semantic_type\": \"\",\n        \"description\": \"\"\n      }\n    }\n  ]\n}"
            }
          },
          "metadata": {},
          "execution_count": 70
        }
      ]
    }
  ],
  "metadata": {
    "colab": {
      "provenance": []
    },
    "language_info": {
      "name": "python"
    },
    "kernelspec": {
      "name": "python3",
      "display_name": "Python 3"
    }
  },
  "nbformat": 4,
  "nbformat_minor": 0
}