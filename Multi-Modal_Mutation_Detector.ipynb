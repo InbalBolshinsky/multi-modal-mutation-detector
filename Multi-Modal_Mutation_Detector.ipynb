{
  "cells": [
    {
      "cell_type": "markdown",
      "metadata": {
        "id": "view-in-github",
        "colab_type": "text"
      },
      "source": [
        "<a href=\"https://colab.research.google.com/github/InbalBolshinsky/multi-modal-mutation-detector/blob/main/Multi-Modal_Mutation_Detector.ipynb\" target=\"_parent\"><img src=\"https://colab.research.google.com/assets/colab-badge.svg\" alt=\"Open In Colab\"/></a>"
      ]
    },
    {
      "cell_type": "code",
      "source": [
        "!wget ftp://ftp.ncbi.nlm.nih.gov/pub/clinvar/vcf_GRCh38/clinvar.vcf.gz"
      ],
      "metadata": {
        "colab": {
          "base_uri": "https://localhost:8080/"
        },
        "id": "J99zZKY9MCVP",
        "outputId": "408513eb-132d-4438-8aa5-b5a593af880b"
      },
      "execution_count": 32,
      "outputs": [
        {
          "output_type": "stream",
          "name": "stdout",
          "text": [
            "--2024-12-11 10:46:41--  ftp://ftp.ncbi.nlm.nih.gov/pub/clinvar/vcf_GRCh38/clinvar.vcf.gz\n",
            "           => ‘clinvar.vcf.gz’\n",
            "Resolving ftp.ncbi.nlm.nih.gov (ftp.ncbi.nlm.nih.gov)... 130.14.250.13, 130.14.250.10, 130.14.250.11, ...\n",
            "Connecting to ftp.ncbi.nlm.nih.gov (ftp.ncbi.nlm.nih.gov)|130.14.250.13|:21... connected.\n",
            "Logging in as anonymous ... Logged in!\n",
            "==> SYST ... done.    ==> PWD ... done.\n",
            "==> TYPE I ... done.  ==> CWD (1) /pub/clinvar/vcf_GRCh38 ... done.\n",
            "==> SIZE clinvar.vcf.gz ... 104979789\n",
            "==> PASV ... done.    ==> RETR clinvar.vcf.gz ... done.\n",
            "Length: 104979789 (100M) (unauthoritative)\n",
            "\n",
            "clinvar.vcf.gz      100%[===================>] 100.12M  45.6MB/s    in 2.2s    \n",
            "\n",
            "2024-12-11 10:46:44 (45.6 MB/s) - ‘clinvar.vcf.gz’ saved [104979789]\n",
            "\n"
          ]
        }
      ]
    },
    {
      "cell_type": "code",
      "source": [
        "!gunzip clinvar.vcf.gz"
      ],
      "metadata": {
        "colab": {
          "base_uri": "https://localhost:8080/"
        },
        "id": "hIigrsbBMCpu",
        "outputId": "4da4da7c-26db-4102-9d60-23afe4d0a7c5"
      },
      "execution_count": 33,
      "outputs": [
        {
          "output_type": "stream",
          "name": "stdout",
          "text": [
            "gzip: clinvar.vcf already exists; do you wish to overwrite (y or n)? y\n"
          ]
        }
      ]
    },
    {
      "cell_type": "code",
      "source": [
        "!grep \"CLNDN=\" clinvar.vcf | head"
      ],
      "metadata": {
        "colab": {
          "base_uri": "https://localhost:8080/"
        },
        "id": "jgANpsiLMCyG",
        "outputId": "c15e7c32-a881-42f2-fea3-dde4bdd8cb10"
      },
      "execution_count": 34,
      "outputs": [
        {
          "output_type": "stream",
          "name": "stdout",
          "text": [
            "1\t69134\t2205837\tA\tG\t.\t.\tALLELEID=2193183;CLNDISDB=MedGen:CN169374;CLNDN=not_specified;CLNHGVS=NC_000001.11:g.69134A>G;CLNREVSTAT=criteria_provided,_single_submitter;CLNSIG=Likely_benign;CLNVC=single_nucleotide_variant;CLNVCSO=SO:0001483;GENEINFO=OR4F5:79501;MC=SO:0001583|missense_variant;ORIGIN=1\n",
            "1\t69314\t3205580\tT\tG\t.\t.\tALLELEID=3374047;CLNDISDB=MedGen:CN169374;CLNDN=not_specified;CLNHGVS=NC_000001.11:g.69314T>G;CLNREVSTAT=criteria_provided,_single_submitter;CLNSIG=Uncertain_significance;CLNVC=single_nucleotide_variant;CLNVCSO=SO:0001483;GENEINFO=OR4F5:79501;MC=SO:0001583|missense_variant;ORIGIN=1\n",
            "1\t69423\t3205581\tG\tA\t.\t.\tALLELEID=3374048;CLNDISDB=MedGen:CN169374;CLNDN=not_specified;CLNHGVS=NC_000001.11:g.69423G>A;CLNREVSTAT=criteria_provided,_single_submitter;CLNSIG=Uncertain_significance;CLNVC=single_nucleotide_variant;CLNVCSO=SO:0001483;GENEINFO=OR4F5:79501;MC=SO:0001583|missense_variant;ORIGIN=1\n",
            "1\t69581\t2252161\tC\tG\t.\t.\tALLELEID=2238986;CLNDISDB=MedGen:CN169374;CLNDN=not_specified;CLNHGVS=NC_000001.11:g.69581C>G;CLNREVSTAT=criteria_provided,_single_submitter;CLNSIG=Uncertain_significance;CLNVC=single_nucleotide_variant;CLNVCSO=SO:0001483;GENEINFO=OR4F5:79501;MC=SO:0001583|missense_variant;ORIGIN=1\n",
            "1\t69682\t2396347\tG\tA\t.\t.\tALLELEID=2386655;CLNDISDB=MedGen:CN169374;CLNDN=not_specified;CLNHGVS=NC_000001.11:g.69682G>A;CLNREVSTAT=criteria_provided,_single_submitter;CLNSIG=Uncertain_significance;CLNVC=single_nucleotide_variant;CLNVCSO=SO:0001483;GENEINFO=OR4F5:79501;MC=SO:0001583|missense_variant;ORIGIN=1\n",
            "1\t69731\t3205582\tT\tC\t.\t.\tALLELEID=3374049;CLNDISDB=MedGen:CN169374;CLNDN=not_specified;CLNHGVS=NC_000001.11:g.69731T>C;CLNREVSTAT=criteria_provided,_single_submitter;CLNSIG=Uncertain_significance;CLNVC=single_nucleotide_variant;CLNVCSO=SO:0001483;GENEINFO=OR4F5:79501;MC=SO:0001583|missense_variant;ORIGIN=1\n",
            "1\t69769\t2288999\tT\tC\t.\t.\tALLELEID=2278803;CLNDISDB=MedGen:CN169374;CLNDN=not_specified;CLNHGVS=NC_000001.11:g.69769T>C;CLNREVSTAT=criteria_provided,_single_submitter;CLNSIG=Uncertain_significance;CLNVC=single_nucleotide_variant;CLNVCSO=SO:0001483;GENEINFO=OR4F5:79501;MC=SO:0001583|missense_variant;ORIGIN=1\n",
            "1\t69995\t2351346\tG\tC\t.\t.\tALLELEID=2333177;CLNDISDB=MedGen:CN169374;CLNDN=not_specified;CLNHGVS=NC_000001.11:g.69995G>C;CLNREVSTAT=criteria_provided,_single_submitter;CLNSIG=Uncertain_significance;CLNVC=single_nucleotide_variant;CLNVCSO=SO:0001483;GENEINFO=OR4F5:79501;MC=SO:0001583|missense_variant;ORIGIN=1\n",
            "1\t925946\t1924157\tC\tG\t.\t.\tALLELEID=1983057;CLNDISDB=MedGen:C3661900;CLNDN=not_provided;CLNHGVS=NC_000001.11:g.925946C>G;CLNREVSTAT=criteria_provided,_single_submitter;CLNSIG=Uncertain_significance;CLNVC=single_nucleotide_variant;CLNVCSO=SO:0001483;GENEINFO=SAMD11:148398;MC=SO:0001583|missense_variant;ORIGIN=1\n",
            "1\t925952\t1019397\tG\tA\t.\t.\tALLELEID=1003021;CLNDISDB=MedGen:C3661900;CLNDN=not_provided;CLNHGVS=NC_000001.11:g.925952G>A;CLNREVSTAT=criteria_provided,_single_submitter;CLNSIG=Uncertain_significance;CLNVC=single_nucleotide_variant;CLNVCSO=SO:0001483;GENEINFO=SAMD11:148398;MC=SO:0001583|missense_variant;ORIGIN=1;RS=1640863258\n"
          ]
        }
      ]
    },
    {
      "cell_type": "code",
      "source": [
        "!grep -v \"^#\" clinvar.vcf | head"
      ],
      "metadata": {
        "id": "snmS2u5wNveh",
        "outputId": "529612ab-4db3-49c4-c033-413ee7399586",
        "colab": {
          "base_uri": "https://localhost:8080/"
        }
      },
      "execution_count": 35,
      "outputs": [
        {
          "output_type": "stream",
          "name": "stdout",
          "text": [
            "1\t69134\t2205837\tA\tG\t.\t.\tALLELEID=2193183;CLNDISDB=MedGen:CN169374;CLNDN=not_specified;CLNHGVS=NC_000001.11:g.69134A>G;CLNREVSTAT=criteria_provided,_single_submitter;CLNSIG=Likely_benign;CLNVC=single_nucleotide_variant;CLNVCSO=SO:0001483;GENEINFO=OR4F5:79501;MC=SO:0001583|missense_variant;ORIGIN=1\n",
            "1\t69314\t3205580\tT\tG\t.\t.\tALLELEID=3374047;CLNDISDB=MedGen:CN169374;CLNDN=not_specified;CLNHGVS=NC_000001.11:g.69314T>G;CLNREVSTAT=criteria_provided,_single_submitter;CLNSIG=Uncertain_significance;CLNVC=single_nucleotide_variant;CLNVCSO=SO:0001483;GENEINFO=OR4F5:79501;MC=SO:0001583|missense_variant;ORIGIN=1\n",
            "1\t69423\t3205581\tG\tA\t.\t.\tALLELEID=3374048;CLNDISDB=MedGen:CN169374;CLNDN=not_specified;CLNHGVS=NC_000001.11:g.69423G>A;CLNREVSTAT=criteria_provided,_single_submitter;CLNSIG=Uncertain_significance;CLNVC=single_nucleotide_variant;CLNVCSO=SO:0001483;GENEINFO=OR4F5:79501;MC=SO:0001583|missense_variant;ORIGIN=1\n",
            "1\t69581\t2252161\tC\tG\t.\t.\tALLELEID=2238986;CLNDISDB=MedGen:CN169374;CLNDN=not_specified;CLNHGVS=NC_000001.11:g.69581C>G;CLNREVSTAT=criteria_provided,_single_submitter;CLNSIG=Uncertain_significance;CLNVC=single_nucleotide_variant;CLNVCSO=SO:0001483;GENEINFO=OR4F5:79501;MC=SO:0001583|missense_variant;ORIGIN=1\n",
            "1\t69682\t2396347\tG\tA\t.\t.\tALLELEID=2386655;CLNDISDB=MedGen:CN169374;CLNDN=not_specified;CLNHGVS=NC_000001.11:g.69682G>A;CLNREVSTAT=criteria_provided,_single_submitter;CLNSIG=Uncertain_significance;CLNVC=single_nucleotide_variant;CLNVCSO=SO:0001483;GENEINFO=OR4F5:79501;MC=SO:0001583|missense_variant;ORIGIN=1\n",
            "1\t69731\t3205582\tT\tC\t.\t.\tALLELEID=3374049;CLNDISDB=MedGen:CN169374;CLNDN=not_specified;CLNHGVS=NC_000001.11:g.69731T>C;CLNREVSTAT=criteria_provided,_single_submitter;CLNSIG=Uncertain_significance;CLNVC=single_nucleotide_variant;CLNVCSO=SO:0001483;GENEINFO=OR4F5:79501;MC=SO:0001583|missense_variant;ORIGIN=1\n",
            "1\t69769\t2288999\tT\tC\t.\t.\tALLELEID=2278803;CLNDISDB=MedGen:CN169374;CLNDN=not_specified;CLNHGVS=NC_000001.11:g.69769T>C;CLNREVSTAT=criteria_provided,_single_submitter;CLNSIG=Uncertain_significance;CLNVC=single_nucleotide_variant;CLNVCSO=SO:0001483;GENEINFO=OR4F5:79501;MC=SO:0001583|missense_variant;ORIGIN=1\n",
            "1\t69995\t2351346\tG\tC\t.\t.\tALLELEID=2333177;CLNDISDB=MedGen:CN169374;CLNDN=not_specified;CLNHGVS=NC_000001.11:g.69995G>C;CLNREVSTAT=criteria_provided,_single_submitter;CLNSIG=Uncertain_significance;CLNVC=single_nucleotide_variant;CLNVCSO=SO:0001483;GENEINFO=OR4F5:79501;MC=SO:0001583|missense_variant;ORIGIN=1\n",
            "1\t925946\t1924157\tC\tG\t.\t.\tALLELEID=1983057;CLNDISDB=MedGen:C3661900;CLNDN=not_provided;CLNHGVS=NC_000001.11:g.925946C>G;CLNREVSTAT=criteria_provided,_single_submitter;CLNSIG=Uncertain_significance;CLNVC=single_nucleotide_variant;CLNVCSO=SO:0001483;GENEINFO=SAMD11:148398;MC=SO:0001583|missense_variant;ORIGIN=1\n",
            "1\t925952\t1019397\tG\tA\t.\t.\tALLELEID=1003021;CLNDISDB=MedGen:C3661900;CLNDN=not_provided;CLNHGVS=NC_000001.11:g.925952G>A;CLNREVSTAT=criteria_provided,_single_submitter;CLNSIG=Uncertain_significance;CLNVC=single_nucleotide_variant;CLNVCSO=SO:0001483;GENEINFO=SAMD11:148398;MC=SO:0001583|missense_variant;ORIGIN=1;RS=1640863258\n"
          ]
        }
      ]
    },
    {
      "cell_type": "code",
      "source": [
        "!grep -E -i \"lung cancer|carcinoma|adenocarcinoma\" clinvar.vcf > relevant_variants.vcf"
      ],
      "metadata": {
        "id": "qmkgp-YOVymf"
      },
      "execution_count": 49,
      "outputs": []
    },
    {
      "cell_type": "code",
      "source": [
        "!head relevant_variants.vcf"
      ],
      "metadata": {
        "id": "x82iOWQ_Uy9n",
        "outputId": "4eb896c5-0670-4352-9d7a-68201cd41899",
        "colab": {
          "base_uri": "https://localhost:8080/"
        }
      },
      "execution_count": 51,
      "outputs": [
        {
          "output_type": "stream",
          "name": "stdout",
          "text": [
            "1\t11109304\t376127\tC\tG\t.\t.\tALLELEID=363006;CLNDISDB=MONDO:MONDO:0005206,MedGen:C1378703;CLNDN=Renal_carcinoma;CLNHGVS=NC_000001.11:g.11109304C>G;CLNREVSTAT=no_assertion_criteria_provided;CLNSIG=Likely_pathogenic;CLNVC=single_nucleotide_variant;CLNVCSO=SO:0001483;CLNVI=ClinGen:CA16602585;GENEINFO=MTOR:2475;MC=SO:0001583|missense_variant;ORIGIN=2;RS=1057519777\n",
            "1\t11109318\t376455\tA\tC\t.\t.\tALLELEID=363334;CLNDISDB=Human_Phenotype_Ontology:HP:0010623,Human_Phenotype_Ontology:HP:0100013,MONDO:MONDO:0021100,MeSH:D001943,MedGen:C1458155|MedGen:C0153574|Human_Phenotype_Ontology:HP:0033770,MONDO:MONDO:0005036,MedGen:C0278701|MONDO:MONDO:0014716,MedGen:C4225259,OMIM:616638,Orphanet:457485|Human_Phenotype_Ontology:HP:0011797,MedGen:C1336839,OMIM:605074,Orphanet:47044;CLNDN=Breast_neoplasm|Malignant_neoplasm_of_body_of_uterus|Gastric_adenocarcinoma|Macrocephaly-intellectual_disability-neurodevelopmental_disorder-small_thorax_syndrome|Papillary_renal_cell_carcinoma_type_1;CLNHGVS=NC_000001.11:g.11109318A>C;CLNREVSTAT=criteria_provided,_single_submitter;CLNSIG=Likely_pathogenic;CLNVC=single_nucleotide_variant;CLNVCSO=SO:0001483;CLNVI=ClinGen:CA16602890;GENEINFO=MTOR:2475;MC=SO:0001583|missense_variant;ORIGIN=34;RS=1057519915\n",
            "1\t11109320\t376456\tT\tA\t.\t.\tALLELEID=363335;CLNDISDB=MedGen:C0153574|Human_Phenotype_Ontology:HP:0033770,MONDO:MONDO:0005036,MedGen:C0278701|Human_Phenotype_Ontology:HP:0010623,Human_Phenotype_Ontology:HP:0100013,MONDO:MONDO:0021100,MeSH:D001943,MedGen:C1458155|Human_Phenotype_Ontology:HP:0011797,MedGen:C1336839,OMIM:605074,Orphanet:47044;CLNDN=Malignant_neoplasm_of_body_of_uterus|Gastric_adenocarcinoma|Breast_neoplasm|Papillary_renal_cell_carcinoma_type_1;CLNHGVS=NC_000001.11:g.11109320T>A;CLNREVSTAT=no_assertion_criteria_provided;CLNSIG=Likely_pathogenic;CLNVC=single_nucleotide_variant;CLNVCSO=SO:0001483;CLNVI=ClinGen:CA16602891;GENEINFO=MTOR:2475;MC=SO:0001583|missense_variant;ORIGIN=2;RS=1057519916\n",
            "1\t11114363\t156709\tC\tT\t.\t.\tALLELEID=166569;CLNDISDB=MONDO:MONDO:0032908,MedGen:C5394044,OMIM:618774|MONDO:MONDO:0014716,MedGen:C4225259,OMIM:616638,Orphanet:457485|Human_Phenotype_Ontology:HP:0006740,MONDO:MONDO:0005611,MedGen:C0279680|MedGen:C3661900;CLNDN=CEBALID_syndrome|Macrocephaly-intellectual_disability-neurodevelopmental_disorder-small_thorax_syndrome|Transitional_cell_carcinoma_of_the_bladder|not_provided;CLNHGVS=NC_000001.11:g.11114363C>T;CLNREVSTAT=criteria_provided,_multiple_submitters,_no_conflicts;CLNSIG=Pathogenic;CLNVC=single_nucleotide_variant;CLNVCSO=SO:0001483;CLNVI=ClinGen:CA248407;GENEINFO=MTOR:2475;MC=SO:0001583|missense_variant;ORIGIN=3;RS=587777900\n",
            "1\t11122122\t376128\tG\tT\t.\t.\tALLELEID=363007;CLNDISDB=MONDO:MONDO:0005206,MedGen:C1378703;CLNDN=Renal_carcinoma;CLNHGVS=NC_000001.11:g.11122122G>T;CLNREVSTAT=no_assertion_criteria_provided;CLNSIG=Likely_pathogenic;CLNVC=single_nucleotide_variant;CLNVCSO=SO:0001483;CLNVI=ClinGen:CA16602586;GENEINFO=MTOR:2475;MC=SO:0001583|missense_variant;ORIGIN=2;RS=1057519778\n",
            "1\t11124516\t156703\tG\tA\t.\t.\tALLELEID=166563;CLNDISDB=MedGen:C3661900|Human_Phenotype_Ontology:HP:0032051,MONDO:MONDO:0011818,MedGen:C1846385,OMIM:607341,Orphanet:268994|Human_Phenotype_Ontology:HP:0032241,MONDO:MONDO:0021230,MeSH:D002583,MedGen:C0007873|MeSH:C538614,MedGen:C1336078|Human_Phenotype_Ontology:HP:0100834,MONDO:MONDO:0005335,MeSH:D015179,MedGen:C0009404|MedGen:C0153574|Human_Phenotype_Ontology:HP:0012056,MONDO:MONDO:0005012,MeSH:C562393,MedGen:C0151779|MONDO:MONDO:0100283,MedGen:CN300503|MONDO:MONDO:0018177,MeSH:D005909,MedGen:C0017636,Orphanet:360|Human_Phenotype_Ontology:HP:0011797,MedGen:C1336839,OMIM:605074,Orphanet:47044;CLNDN=not_provided|Isolated_focal_cortical_dysplasia_type_II|Neoplasm_of_uterine_cervix|Papillary_renal_cell_carcinoma,_sporadic|Neoplasm_of_the_large_intestine|Malignant_neoplasm_of_body_of_uterus|Malignant_melanoma_of_skin|Overgrowth_syndrome_and/or_cerebral_malformations_due_to_abnormalities_in_MTOR_pathway_genes|Glioblastoma|Papillary_renal_cell_carcinoma_type_1;CLNHGVS=NC_000001.11:g.11124516G>A;CLNREVSTAT=reviewed_by_expert_panel;CLNSIG=Pathogenic;CLNVC=single_nucleotide_variant;CLNVCSO=SO:0001483;CLNVI=ClinGen:CA248393|OMIM:601231.0008;GENEINFO=MTOR:2475;MC=SO:0001583|missense_variant;ORIGIN=3;RS=587777894\n",
            "1\t11124516\t376129\tG\tT\t.\t.\tALLELEID=363008;CLNDISDB=Human_Phenotype_Ontology:HP:0011797,MedGen:C1336839,OMIM:605074,Orphanet:47044|MONDO:MONDO:0005206,MedGen:C1378703|Human_Phenotype_Ontology:HP:0032241,MONDO:MONDO:0021230,MeSH:D002583,MedGen:C0007873|MeSH:C538614,MedGen:C1336078|MedGen:C0153574|Human_Phenotype_Ontology:HP:0012056,MONDO:MONDO:0005012,MeSH:C562393,MedGen:C0151779|Human_Phenotype_Ontology:HP:0100834,MONDO:MONDO:0005335,MeSH:D015179,MedGen:C0009404|Human_Phenotype_Ontology:HP:0032051,MONDO:MONDO:0011818,MedGen:C1846385,OMIM:607341,Orphanet:268994|MONDO:MONDO:0100283,MedGen:CN300503|MONDO:MONDO:0018177,MeSH:D005909,MedGen:C0017636,Orphanet:360;CLNDN=Papillary_renal_cell_carcinoma_type_1|Renal_carcinoma|Neoplasm_of_uterine_cervix|Papillary_renal_cell_carcinoma,_sporadic|Malignant_neoplasm_of_body_of_uterus|Malignant_melanoma_of_skin|Neoplasm_of_the_large_intestine|Isolated_focal_cortical_dysplasia_type_II|Overgrowth_syndrome_and/or_cerebral_malformations_due_to_abnormalities_in_MTOR_pathway_genes|Glioblastoma;CLNHGVS=NC_000001.11:g.11124516G>T;CLNREVSTAT=reviewed_by_expert_panel;CLNSIG=Pathogenic;CLNVC=single_nucleotide_variant;CLNVCSO=SO:0001483;CLNVI=ClinGen:CA16602587|OMIM:601231.0005;GENEINFO=MTOR:2475;MC=SO:0001583|missense_variant;ORIGIN=3;RS=587777894\n",
            "1\t11124517\t376457\tA\tT\t.\t.\tALLELEID=363336;CLNDISDB=Human_Phenotype_Ontology:HP:0032241,MONDO:MONDO:0021230,MeSH:D002583,MedGen:C0007873|Human_Phenotype_Ontology:HP:0100834,MONDO:MONDO:0005335,MeSH:D015179,MedGen:C0009404|MeSH:C538614,MedGen:C1336078|MedGen:C0153574|MONDO:MONDO:0018177,MeSH:D005909,MedGen:C0017636,Orphanet:360|Human_Phenotype_Ontology:HP:0012056,MONDO:MONDO:0005012,MeSH:C562393,MedGen:C0151779|Human_Phenotype_Ontology:HP:0011797,MedGen:C1336839,OMIM:605074,Orphanet:47044;CLNDN=Neoplasm_of_uterine_cervix|Neoplasm_of_the_large_intestine|Papillary_renal_cell_carcinoma,_sporadic|Malignant_neoplasm_of_body_of_uterus|Glioblastoma|Malignant_melanoma_of_skin|Papillary_renal_cell_carcinoma_type_1;CLNHGVS=NC_000001.11:g.11124517A>T;CLNREVSTAT=no_assertion_criteria_provided;CLNSIG=Likely_pathogenic;CLNVC=single_nucleotide_variant;CLNVCSO=SO:0001483;CLNVI=ClinGen:CA16602892;GENEINFO=MTOR:2475;MC=SO:0001583|missense_variant;ORIGIN=2;RS=1057519917\n",
            "1\t11127800\t376131\tC\tT\t.\t.\tALLELEID=363010;CLNDISDB=Human_Phenotype_Ontology:HP:0006740,MONDO:MONDO:0005611,MedGen:C0279680|MedGen:C3661900;CLNDN=Transitional_cell_carcinoma_of_the_bladder|not_provided;CLNHGVS=NC_000001.11:g.11127800C>T;CLNREVSTAT=criteria_provided,_single_submitter;CLNSIG=Uncertain_significance;CLNVC=single_nucleotide_variant;CLNVCSO=SO:0001483;CLNVI=ClinGen:CA16602589;GENEINFO=MTOR:2475;MC=SO:0001583|missense_variant;ORIGIN=3;RS=1057519780\n",
            "1\t11157172\t376454\tG\tC\t.\t.\tALLELEID=363333;CLNDISDB=MONDO:MONDO:0018177,MeSH:D005909,MedGen:C0017636,Orphanet:360|Human_Phenotype_Ontology:HP:0011797,MedGen:C1336839,OMIM:605074,Orphanet:47044|Human_Phenotype_Ontology:HP:0010623,Human_Phenotype_Ontology:HP:0100013,MONDO:MONDO:0021100,MeSH:D001943,MedGen:C1458155;CLNDN=Glioblastoma|Papillary_renal_cell_carcinoma_type_1|Breast_neoplasm;CLNHGVS=NC_000001.11:g.11157172G>C;CLNREVSTAT=no_assertion_criteria_provided;CLNSIG=Likely_pathogenic;CLNVC=single_nucleotide_variant;CLNVCSO=SO:0001483;CLNVI=ClinGen:CA16602889;GENEINFO=MTOR:2475;MC=SO:0001583|missense_variant;ORIGIN=2;RS=1057519913\n"
          ]
        }
      ]
    }
  ],
  "metadata": {
    "colab": {
      "provenance": [],
      "include_colab_link": true
    },
    "language_info": {
      "name": "python"
    },
    "kernelspec": {
      "name": "python3",
      "display_name": "Python 3"
    }
  },
  "nbformat": 4,
  "nbformat_minor": 0
}